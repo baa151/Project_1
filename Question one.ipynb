{
 "cells": [
  {
   "cell_type": "markdown",
   "id": "4e3e5222",
   "metadata": {},
   "source": [
    "# No interaction"
   ]
  },
  {
   "cell_type": "code",
   "execution_count": 1,
   "id": "9772a1fb",
   "metadata": {},
   "outputs": [
    {
     "name": "stdout",
     "output_type": "stream",
     "text": [
      "                            OLS Regression Results                            \n",
      "==============================================================================\n",
      "Dep. Variable:                 deaths   R-squared:                       0.823\n",
      "Model:                            OLS   Adj. R-squared:                  0.822\n",
      "Method:                 Least Squares   F-statistic:                     582.3\n",
      "Date:                Tue, 24 Oct 2023   Prob (F-statistic):           8.20e-95\n",
      "Time:                        23:27:47   Log-Likelihood:                -3278.3\n",
      "No. Observations:                 253   AIC:                             6563.\n",
      "Df Residuals:                     250   BIC:                             6573.\n",
      "Df Model:                           2                                         \n",
      "Covariance Type:            nonrobust                                         \n",
      "==============================================================================\n",
      "                 coef    std err          t      P>|t|      [0.025      0.975]\n",
      "------------------------------------------------------------------------------\n",
      "const       1.368e+05   2.56e+04      5.333      0.000    8.63e+04    1.87e+05\n",
      "gdp            0.0072      0.000     34.125      0.000       0.007       0.008\n",
      "income        -1.9442      0.447     -4.352      0.000      -2.824      -1.064\n",
      "==============================================================================\n",
      "Omnibus:                      266.333   Durbin-Watson:                   1.920\n",
      "Prob(Omnibus):                  0.000   Jarque-Bera (JB):            11451.445\n",
      "Skew:                           4.216   Prob(JB):                         0.00\n",
      "Kurtosis:                      34.862   Cond. No.                     1.25e+08\n",
      "==============================================================================\n",
      "\n",
      "Notes:\n",
      "[1] Standard Errors assume that the covariance matrix of the errors is correctly specified.\n",
      "[2] The condition number is large, 1.25e+08. This might indicate that there are\n",
      "strong multicollinearity or other numerical problems.\n"
     ]
    }
   ],
   "source": [
    "import numpy as np\n",
    "import pandas as pd\n",
    "import statsmodels.api as sm\n",
    "\n",
    "# Load and prepare the data\n",
    "covid_data = pd.read_csv('TX_death2021.csv')\n",
    "gdp_data = pd.read_csv('TX_GDP2021.csv')\n",
    "income_data = pd.read_csv('TX_income2021.csv')\n",
    "\n",
    "# Merge the data into one DataFrame\n",
    "data = covid_data.merge(gdp_data, on='FIPS').merge(income_data, on='FIPS')\n",
    "\n",
    "# Rename columns for clarity\n",
    "data = data.rename(columns={'Deaths': 'deaths', 'GDP': 'gdp', 'Income': 'income'})\n",
    "\n",
    "# Define the independent variables\n",
    "X = data[['gdp', 'income']]\n",
    "\n",
    "# Add a constant term to the model\n",
    "X = sm.add_constant(X)\n",
    "\n",
    "# Define the dependent variable\n",
    "y = data['deaths']\n",
    "\n",
    "# Fit the multiple linear regression model\n",
    "model = sm.OLS(y, X).fit()\n",
    "\n",
    "# Print the summary of the regression\n",
    "print(model.summary())\n"
   ]
  },
  {
   "cell_type": "markdown",
   "id": "6ac76713",
   "metadata": {},
   "source": [
    "# Interaction"
   ]
  },
  {
   "cell_type": "code",
   "execution_count": 2,
   "id": "c683262b",
   "metadata": {},
   "outputs": [
    {
     "name": "stdout",
     "output_type": "stream",
     "text": [
      "                            OLS Regression Results                            \n",
      "==============================================================================\n",
      "Dep. Variable:                 deaths   R-squared:                       0.914\n",
      "Model:                            OLS   Adj. R-squared:                  0.913\n",
      "Method:                 Least Squares   F-statistic:                     882.5\n",
      "Date:                Tue, 24 Oct 2023   Prob (F-statistic):          2.56e-132\n",
      "Time:                        23:28:21   Log-Likelihood:                -3187.2\n",
      "No. Observations:                 253   AIC:                             6382.\n",
      "Df Residuals:                     249   BIC:                             6397.\n",
      "Df Model:                           3                                         \n",
      "Covariance Type:            nonrobust                                         \n",
      "==========================================================================================\n",
      "                             coef    std err          t      P>|t|      [0.025      0.975]\n",
      "------------------------------------------------------------------------------------------\n",
      "const                   1.305e+04   1.95e+04      0.670      0.504   -2.53e+04    5.14e+04\n",
      "gdp                        0.0301      0.001     21.224      0.000       0.027       0.033\n",
      "income                     0.1282      0.337      0.380      0.704      -0.536       0.793\n",
      "gdp_income_interaction -3.387e-07   2.09e-08    -16.214      0.000    -3.8e-07   -2.98e-07\n",
      "==============================================================================\n",
      "Omnibus:                      288.318   Durbin-Watson:                   1.939\n",
      "Prob(Omnibus):                  0.000   Jarque-Bera (JB):            13494.689\n",
      "Skew:                           4.799   Prob(JB):                         0.00\n",
      "Kurtosis:                      37.467   Cond. No.                     9.28e+12\n",
      "==============================================================================\n",
      "\n",
      "Notes:\n",
      "[1] Standard Errors assume that the covariance matrix of the errors is correctly specified.\n",
      "[2] The condition number is large, 9.28e+12. This might indicate that there are\n",
      "strong multicollinearity or other numerical problems.\n"
     ]
    }
   ],
   "source": [
    "import numpy as np\n",
    "import pandas as pd\n",
    "import statsmodels.api as sm\n",
    "\n",
    "# Load and prepare the data\n",
    "covid_data = pd.read_csv('TX_death2021.csv')\n",
    "gdp_data = pd.read_csv('TX_GDP2021.csv')\n",
    "income_data = pd.read_csv('TX_income2021.csv')\n",
    "\n",
    "# Merge the data into one DataFrame\n",
    "data = covid_data.merge(gdp_data, on='FIPS').merge(income_data, on='FIPS')\n",
    "\n",
    "# Rename columns for clarity\n",
    "data = data.rename(columns={'Deaths': 'deaths', 'GDP': 'gdp', 'Income': 'income'})\n",
    "\n",
    "# Create interaction terms\n",
    "data['gdp_income_interaction'] = data['gdp'] * data['income']\n",
    "\n",
    "# Define the independent variables including the interaction term\n",
    "X = data[['gdp', 'income', 'gdp_income_interaction']]\n",
    "\n",
    "# Add a constant term to the model\n",
    "X = sm.add_constant(X)\n",
    "\n",
    "# Define the dependent variable\n",
    "y = data['deaths']\n",
    "\n",
    "# Fit the multiple linear regression model\n",
    "model = sm.OLS(y, X).fit()\n",
    "\n",
    "# Print the summary of the regression\n",
    "print(model.summary())\n"
   ]
  },
  {
   "cell_type": "code",
   "execution_count": null,
   "id": "efc2bc7e",
   "metadata": {},
   "outputs": [],
   "source": []
  }
 ],
 "metadata": {
  "kernelspec": {
   "display_name": "Python 3 (ipykernel)",
   "language": "python",
   "name": "python3"
  },
  "language_info": {
   "codemirror_mode": {
    "name": "ipython",
    "version": 3
   },
   "file_extension": ".py",
   "mimetype": "text/x-python",
   "name": "python",
   "nbconvert_exporter": "python",
   "pygments_lexer": "ipython3",
   "version": "3.9.13"
  }
 },
 "nbformat": 4,
 "nbformat_minor": 5
}
